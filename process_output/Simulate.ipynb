{
 "cells": [
  {
   "cell_type": "code",
   "execution_count": 4,
   "metadata": {},
   "outputs": [],
   "source": [
    "import sys\n",
    "import os\n",
    "import math\n",
    "import importlib\n",
    "import matplotlib\n",
    "import matplotlib.pyplot as plt\n",
    "import numpy as np\n",
    "import random\n",
    "%matplotlib inline"
   ]
  },
  {
   "cell_type": "code",
   "execution_count": 36,
   "metadata": {},
   "outputs": [],
   "source": [
    "def simulate(initialRatio):\n",
    "    rand = random.Random(1337)\n",
    "    nprand = np.random.RandomState(1337)\n",
    "    populationSize = 5000 # small town \n",
    "    # model # of children as Poisson:\n",
    "    # 2.5 avg children, and for Poisson, mean=variance\n",
    "    # note that the 2.5 number is for present day - that's a conservative choice for it\n",
    "    # since in past it's much higher:\n",
    "    # https://ourworldindata.org/fertility-rate#the-number-of-children-per-woman-over-the-very-long-run\n",
    "    numChildrenMeanVariance = 2.5\n",
    "    # initialize the initial generation\n",
    "    initialSeeds = rand.sample(range(populationSize), int(populationSize * initialRatio))\n",
    "    population = [False]*populationSize    \n",
    "    for i in initialSeeds:\n",
    "        population[i] = True\n",
    "    \n",
    "    result = [(populationSize, len(initialSeeds))]\n",
    "        \n",
    "    # start simulating\n",
    "    generations = 10\n",
    "    for generation in range(generations):\n",
    "        # shuffle the array\n",
    "        newpopulation = []\n",
    "        rand.shuffle(population)\n",
    "        popWithTrait = 0\n",
    "        # for each (randomly shuffled) pair:\n",
    "        endval = len(population) & ~1\n",
    "        for i in range(0, endval, 2):\n",
    "            # generate number of children\n",
    "            # if any parent has it, child has it\n",
    "            hasIt = population[i] or population[i+1]\n",
    "            numChildren = int(nprand.poisson(numChildrenMeanVariance))\n",
    "            newpopulation = newpopulation + [hasIt]*numChildren\n",
    "            if hasIt:\n",
    "                popWithTrait += numChildren\n",
    "        print(len(newpopulation), popWithTrait)\n",
    "        result.append((len(newpopulation), popWithTrait))\n",
    "        population = newpopulation\n",
    "    return result"
   ]
  },
  {
   "cell_type": "code",
   "execution_count": 37,
   "metadata": {},
   "outputs": [
    {
     "name": "stdout",
     "output_type": "stream",
     "text": [
      "starting 0.01\n",
      "6274 122\n",
      "7931 309\n",
      "9802 762\n",
      "12308 1893\n",
      "15391 4408\n",
      "19233 9394\n",
      "24130 17844\n",
      "30183 28139\n",
      "37865 37670\n",
      "47289 47289\n",
      "starting 0.05\n",
      "6274 641\n",
      "7931 1511\n",
      "9802 3410\n",
      "12308 7127\n",
      "15391 12619\n",
      "19233 18552\n",
      "24130 24091\n",
      "30183 30183\n",
      "37865 37865\n",
      "47289 47289\n",
      "starting 0.1\n",
      "6274 1193\n",
      "7931 2673\n",
      "9802 5470\n",
      "12308 9924\n",
      "15391 14831\n",
      "19233 19214\n",
      "24130 24130\n",
      "30183 30183\n",
      "37865 37865\n",
      "47289 47289\n",
      "starting 0.15\n",
      "6274 1768\n",
      "7931 3907\n",
      "9802 7301\n",
      "12308 11511\n",
      "15391 15294\n",
      "19233 19233\n",
      "24130 24130\n",
      "30183 30183\n",
      "37865 37865\n",
      "47289 47289\n",
      "starting 0.2\n",
      "6274 2247\n",
      "7931 4629\n",
      "9802 8152\n",
      "12308 11904\n",
      "15391 15380\n",
      "19233 19233\n",
      "24130 24130\n",
      "30183 30183\n",
      "37865 37865\n",
      "47289 47289\n"
     ]
    }
   ],
   "source": [
    "ratios = [0.01, 0.05, 0.10, 0.15, 0.20]\n",
    "simresults = []\n",
    "for ratio in ratios:\n",
    "    print(\"starting\", ratio)\n",
    "    simresults.append(simulate(ratio))"
   ]
  },
  {
   "cell_type": "code",
   "execution_count": 42,
   "metadata": {},
   "outputs": [
    {
     "data": {
      "text/plain": [
       "<matplotlib.legend.Legend at 0x1211a24a8>"
      ]
     },
     "execution_count": 42,
     "metadata": {},
     "output_type": "execute_result"
    },
    {
     "data": {
      "image/png": "[encoded data removed]",
      "text/plain": [
       "<Figure size 432x288 with 1 Axes>"
      ]
     },
     "metadata": {
      "needs_background": "light"
     },
     "output_type": "display_data"
    }
   ],
   "source": [
    "for i in range(len(ratios)):\n",
    "    simresult = simresults[i]\n",
    "    ratio = [a[1]/a[0] for a in simresult]\n",
    "    plt.plot(list(range(len(simresult))), ratio, label=str(int(ratios[i]*100)) + \"%\")\n",
    "plt.legend()"
   ]
  },
  {
   "cell_type": "code",
   "execution_count": 49,
   "metadata": {
    "scrolled": true
   },
   "outputs": [
    {
     "name": "stdout",
     "output_type": "stream",
     "text": [
      "starting 0.01\n",
      "2726150 54272\n",
      "2726150 107456\n",
      "2726150 210786\n",
      "2726150 405578\n",
      "2726150 751090\n",
      "2726150 1295710\n",
      "2726150 1974608\n",
      "2726150 2519108\n",
      "2726150 2710120\n",
      "2726150 2726064\n",
      "starting 0.05\n",
      "2726150 265734\n",
      "2726150 505810\n",
      "2726150 917770\n",
      "2726150 1526582\n",
      "2726150 2198516\n",
      "2726150 2624200\n",
      "2726150 2722284\n",
      "2726150 2726144\n",
      "2726150 2726150\n",
      "2726150 2726150\n",
      "starting 0.1\n",
      "2726150 518422\n",
      "2726150 937902\n",
      "2726150 1551782\n",
      "2726150 2219684\n",
      "2726150 2631902\n",
      "2726150 2722808\n",
      "2726150 2726150\n",
      "2726150 2726150\n",
      "2726150 2726150\n",
      "2726150 2726150\n",
      "starting 0.15\n",
      "2726150 756358\n",
      "2726150 1302388\n",
      "2726150 1982522\n",
      "2726150 2523748\n",
      "2726150 2711010\n",
      "2726150 2726048\n",
      "2726150 2726150\n",
      "2726150 2726150\n",
      "2726150 2726150\n",
      "2726150 2726150\n",
      "starting 0.2\n",
      "2726150 981700\n",
      "2726150 1610332\n",
      "2726150 2269052\n",
      "2726150 2650148\n",
      "2726150 2724096\n",
      "2726150 2726150\n",
      "2726150 2726150\n",
      "2726150 2726150\n",
      "2726150 2726150\n",
      "2726150 2726150\n"
     ]
    }
   ],
   "source": [
    "def simulate_const(initialRatio):\n",
    "    rand = random.Random(1337)\n",
    "    populationSize = 2726150 # matches 1809 pop\n",
    "    # initialize the initial generation\n",
    "    initialSeeds = rand.sample(range(populationSize), int(populationSize * initialRatio))\n",
    "    population = [False]*populationSize    \n",
    "    for i in initialSeeds:\n",
    "        population[i] = True\n",
    "    \n",
    "    result = [(populationSize, len(initialSeeds))]\n",
    "        \n",
    "    # start simulating\n",
    "    generations = 10\n",
    "    for generation in range(generations):\n",
    "        # shuffle the array\n",
    "        newpopulation = [False]*len(population)\n",
    "        rand.shuffle(population)\n",
    "        popWithTrait = 0\n",
    "        # for each (randomly shuffled) pair:\n",
    "        endval = len(population) & ~1\n",
    "        for i in range(0, endval, 2):\n",
    "            # generate number of children\n",
    "            # if any parent has it, child has it\n",
    "            hasIt = population[i] or population[i+1]\n",
    "            if hasIt: # changed from above!\n",
    "                newpopulation[i] = newpopulation[i+1] = True\n",
    "                popWithTrait += 2\n",
    "        print(len(newpopulation), popWithTrait)\n",
    "        result.append((len(newpopulation), popWithTrait))\n",
    "        population = newpopulation\n",
    "    return result\n",
    "simresults_const = []\n",
    "for ratio in ratios:\n",
    "    print(\"starting\", ratio)\n",
    "    simresults_const.append(simulate_const(ratio))"
   ]
  },
  {
   "cell_type": "code",
   "execution_count": 50,
   "metadata": {},
   "outputs": [
    {
     "data": {
      "text/plain": [
       "<matplotlib.legend.Legend at 0x1222296a0>"
      ]
     },
     "execution_count": 50,
     "metadata": {},
     "output_type": "execute_result"
    },
    {
     "data": {
      "image/png": "[encoded data removed]",
      "text/plain": [
       "<Figure size 432x288 with 1 Axes>"
      ]
     },
     "metadata": {
      "needs_background": "light"
     },
     "output_type": "display_data"
    }
   ],
   "source": [
    "for i in range(len(ratios)):\n",
    "    simresult = simresults_const[i]\n",
    "    ratio = [a[1]/a[0] for a in simresult]\n",
    "    plt.plot(list(range(len(simresult))), ratio, label=str(int(ratios[i]*100)) + \"%\")\n",
    "plt.legend()"
   ]
  },
  {
   "cell_type": "code",
   "execution_count": 51,
   "metadata": {},
   "outputs": [
    {
     "name": "stdout",
     "output_type": "stream",
     "text": [
      "starting 0.01\n",
      "2726150 27136\n",
      "2726150 27013\n",
      "2726150 26876\n",
      "2726150 26748\n",
      "2726150 26625\n",
      "2726150 26489\n",
      "2726150 26364\n",
      "2726150 26248\n",
      "2726150 26135\n",
      "2726150 26004\n",
      "starting 0.05\n",
      "2726150 132867\n",
      "2726150 129619\n",
      "2726150 126454\n",
      "2726150 123500\n",
      "2726150 120655\n",
      "2726150 118002\n",
      "2726150 115365\n",
      "2726150 112795\n",
      "2726150 110474\n",
      "2726150 108212\n",
      "starting 0.1\n",
      "2726150 259211\n",
      "2726150 246837\n",
      "2726150 235726\n",
      "2726150 225615\n",
      "2726150 216339\n",
      "2726150 207610\n",
      "2726150 199683\n",
      "2726150 192314\n",
      "2726150 185603\n",
      "2726150 179412\n",
      "starting 0.15\n",
      "2726150 378179\n",
      "2726150 351900\n",
      "2726150 329192\n",
      "2726150 309259\n",
      "2726150 291643\n",
      "2726150 276020\n",
      "2726150 262162\n",
      "2726150 249589\n",
      "2726150 238331\n",
      "2726150 227706\n",
      "starting 0.2\n",
      "2726150 490850\n",
      "2726150 446612\n",
      "2726150 410033\n",
      "2726150 379278\n",
      "2726150 352864\n",
      "2726150 330064\n",
      "2726150 309964\n",
      "2726150 292434\n",
      "2726150 276792\n",
      "2726150 262744\n"
     ]
    }
   ],
   "source": [
    "# Just for fun: what if only one child gets the trait? (matches Guardian)\n",
    "\n",
    "def simulate_onlyone(initialRatio):\n",
    "    rand = random.Random(1337)\n",
    "    populationSize = 2726150 # matches 1809 pop\n",
    "    # initialize the initial generation\n",
    "    initialSeeds = rand.sample(range(populationSize), int(populationSize * initialRatio))\n",
    "    population = [False]*populationSize    \n",
    "    for i in initialSeeds:\n",
    "        population[i] = True\n",
    "    \n",
    "    result = [(populationSize, len(initialSeeds))]\n",
    "        \n",
    "    # start simulating\n",
    "    generations = 10\n",
    "    for generation in range(generations):\n",
    "        # shuffle the array\n",
    "        newpopulation = [False]*len(population)\n",
    "        rand.shuffle(population)\n",
    "        popWithTrait = 0\n",
    "        # for each (randomly shuffled) pair:\n",
    "        endval = len(population) & ~1\n",
    "        for i in range(0, endval, 2):\n",
    "            # generate number of children\n",
    "            # if any parent has it, child has it\n",
    "            hasIt = population[i] or population[i+1]\n",
    "            if hasIt: # changed from above!\n",
    "                newpopulation[i] = True\n",
    "                popWithTrait += 1\n",
    "        print(len(newpopulation), popWithTrait)\n",
    "        result.append((len(newpopulation), popWithTrait))\n",
    "        population = newpopulation\n",
    "    return result\n",
    "simresults_onlyone = []\n",
    "for ratio in ratios:\n",
    "    print(\"starting\", ratio)\n",
    "    simresults_onlyone.append(simulate_onlyone(ratio))"
   ]
  },
  {
   "cell_type": "code",
   "execution_count": 52,
   "metadata": {},
   "outputs": [
    {
     "data": {
      "text/plain": [
       "<matplotlib.legend.Legend at 0x12865acc0>"
      ]
     },
     "execution_count": 52,
     "metadata": {},
     "output_type": "execute_result"
    },
    {
     "data": {
      "image/png": "[encoded data removed]",
      "text/plain": [
       "<Figure size 432x288 with 1 Axes>"
      ]
     },
     "metadata": {
      "needs_background": "light"
     },
     "output_type": "display_data"
    }
   ],
   "source": [
    "for i in range(len(ratios)):\n",
    "    simresult = simresults_onlyone[i]\n",
    "    ratio = [a[1]/a[0] for a in simresult]\n",
    "    plt.plot(list(range(len(simresult))), ratio, label=str(int(ratios[i]*100)) + \"%\")\n",
    "plt.legend()"
   ]
  },
  {
   "cell_type": "code",
   "execution_count": null,
   "metadata": {},
   "outputs": [],
   "source": []
  }
 ],
 "metadata": {
  "kernelspec": {
   "display_name": "Python 3",
   "language": "python",
   "name": "python3"
  },
  "language_info": {
   "codemirror_mode": {
    "name": "ipython",
    "version": 3
   },
   "file_extension": ".py",
   "mimetype": "text/x-python",
   "name": "python",
   "nbconvert_exporter": "python",
   "pygments_lexer": "ipython3",
   "version": "3.7.0"
  }
 },
 "nbformat": 4,
 "nbformat_minor": 2
}
