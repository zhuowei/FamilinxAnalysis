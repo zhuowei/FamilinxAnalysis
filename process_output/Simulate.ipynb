{
 "cells": [
  {
   "cell_type": "code",
   "execution_count": 4,
   "metadata": {},
   "outputs": [],
   "source": [
    "import sys\n",
    "import os\n",
    "import math\n",
    "import importlib\n",
    "import matplotlib\n",
    "import matplotlib.pyplot as plt\n",
    "import numpy as np\n",
    "import random\n",
    "%matplotlib inline"
   ]
  },
  {
   "cell_type": "code",
   "execution_count": 36,
   "metadata": {},
   "outputs": [],
   "source": [
    "def simulate(initialRatio):\n",
    "    rand = random.Random(1337)\n",
    "    nprand = np.random.RandomState(1337)\n",
    "    populationSize = 5000 # small town \n",
    "    # model # of children as Poisson:\n",
    "    # 2.5 avg children, and for Poisson, mean=variance\n",
    "    # note that the 2.5 number is for present day - that's a conservative choice for it\n",
    "    # since in past it's much higher:\n",
    "    # https://ourworldindata.org/fertility-rate#the-number-of-children-per-woman-over-the-very-long-run\n",
    "    numChildrenMeanVariance = 2.5\n",
    "    # initialize the initial generation\n",
    "    initialSeeds = rand.sample(range(populationSize), int(populationSize * initialRatio))\n",
    "    population = [False]*populationSize    \n",
    "    for i in initialSeeds:\n",
    "        population[i] = True\n",
    "    \n",
    "    result = [(populationSize, len(initialSeeds))]\n",
    "        \n",
    "    # start simulating\n",
    "    generations = 10\n",
    "    for generation in range(generations):\n",
    "        # shuffle the array\n",
    "        newpopulation = []\n",
    "        rand.shuffle(population)\n",
    "        popWithTrait = 0\n",
    "        # for each (randomly shuffled) pair:\n",
    "        endval = len(population) & ~1\n",
    "        for i in range(0, endval, 2):\n",
    "            # generate number of children\n",
    "            # if any parent has it, child has it\n",
    "            hasIt = population[i] or population[i+1]\n",
    "            numChildren = int(nprand.poisson(numChildrenMeanVariance))\n",
    "            newpopulation = newpopulation + [hasIt]*numChildren\n",
    "            if hasIt:\n",
    "                popWithTrait += numChildren\n",
    "        print(len(newpopulation), popWithTrait)\n",
    "        result.append((len(newpopulation), popWithTrait))\n",
    "        population = newpopulation\n",
    "    return result"
   ]
  },
  {
   "cell_type": "code",
   "execution_count": 37,
   "metadata": {},
   "outputs": [
    {
     "name": "stdout",
     "output_type": "stream",
     "text": [
      "starting 0.01\n",
      "6274 122\n",
      "7931 309\n",
      "9802 762\n",
      "12308 1893\n",
      "15391 4408\n",
      "19233 9394\n",
      "24130 17844\n",
      "30183 28139\n",
      "37865 37670\n",
      "47289 47289\n",
      "starting 0.05\n",
      "6274 641\n",
      "7931 1511\n",
      "9802 3410\n",
      "12308 7127\n",
      "15391 12619\n",
      "19233 18552\n",
      "24130 24091\n",
      "30183 30183\n",
      "37865 37865\n",
      "47289 47289\n",
      "starting 0.1\n",
      "6274 1193\n",
      "7931 2673\n",
      "9802 5470\n",
      "12308 9924\n",
      "15391 14831\n",
      "19233 19214\n",
      "24130 24130\n",
      "30183 30183\n",
      "37865 37865\n",
      "47289 47289\n",
      "starting 0.15\n",
      "6274 1768\n",
      "7931 3907\n",
      "9802 7301\n",
      "12308 11511\n",
      "15391 15294\n",
      "19233 19233\n",
      "24130 24130\n",
      "30183 30183\n",
      "37865 37865\n",
      "47289 47289\n",
      "starting 0.2\n",
      "6274 2247\n",
      "7931 4629\n",
      "9802 8152\n",
      "12308 11904\n",
      "15391 15380\n",
      "19233 19233\n",
      "24130 24130\n",
      "30183 30183\n",
      "37865 37865\n",
      "47289 47289\n"
     ]
    }
   ],
   "source": [
    "ratios = [0.01, 0.05, 0.10, 0.15, 0.20]\n",
    "simresults = []\n",
    "for ratio in ratios:\n",
    "    print(\"starting\", ratio)\n",
    "    simresults.append(simulate(ratio))"
   ]
  },
  {
   "cell_type": "code",
   "execution_count": 42,
   "metadata": {},
   "outputs": [
    {
     "data": {
      "text/plain": [
       "<matplotlib.legend.Legend at 0x1211a24a8>"
      ]
     },
     "execution_count": 42,
     "metadata": {},
     "output_type": "execute_result"
    },
    {
     "data": {
      "image/png": "[encoded data removed]",
      "text/plain": [
       "<Figure size 432x288 with 1 Axes>"
      ]
     },
     "metadata": {
      "needs_background": "light"
     },
     "output_type": "display_data"
    }
   ],
   "source": [
    "for i in range(len(ratios)):\n",
    "    simresult = simresults[i]\n",
    "    ratio = [a[1]/a[0] for a in simresult]\n",
    "    plt.plot(list(range(len(simresult))), ratio, label=str(int(ratios[i]*100)) + \"%\")\n",
    "plt.legend()"
   ]
  },
  {
   "cell_type": "code",
   "execution_count": null,
   "metadata": {},
   "outputs": [],
   "source": [
    "simulate(0.10)"
   ]
  }
 ],
 "metadata": {
  "kernelspec": {
   "display_name": "Python 3",
   "language": "python",
   "name": "python3"
  },
  "language_info": {
   "codemirror_mode": {
    "name": "ipython",
    "version": 3
   },
   "file_extension": ".py",
   "mimetype": "text/x-python",
   "name": "python",
   "nbconvert_exporter": "python",
   "pygments_lexer": "ipython3",
   "version": "3.7.0"
  }
 },
 "nbformat": 4,
 "nbformat_minor": 2
}
